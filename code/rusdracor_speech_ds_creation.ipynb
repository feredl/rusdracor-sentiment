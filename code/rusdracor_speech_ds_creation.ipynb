{
  "cells": [
    {
      "cell_type": "code",
      "execution_count": null,
      "metadata": {
        "id": "6kgkRCqkOAFu"
      },
      "outputs": [],
      "source": [
        "import os\n",
        "import xml.etree.ElementTree as ET\n",
        "import pandas as pd"
      ]
    },
    {
      "cell_type": "code",
      "execution_count": null,
      "metadata": {
        "id": "TQlD54GqPik4"
      },
      "outputs": [],
      "source": [
        "rusdr_meta = pd.read_excel(\"rusdracor-metadata.xlsx\")\n",
        "rusdr_meta.head()"
      ]
    },
    {
      "cell_type": "markdown",
      "metadata": {
        "id": "aEMZhMPFsXQZ"
      },
      "source": [
        "## Работающий код, но ~7 пьес не считываются нормально.\n"
      ]
    },
    {
      "cell_type": "code",
      "execution_count": null,
      "metadata": {
        "id": "vQDKQnQKhLhG"
      },
      "outputs": [],
      "source": [
        "def extract_speeches_from_xml(file_path):\n",
        "    tree = ET.parse(file_path)\n",
        "    root = tree.getroot()\n",
        "    namespaces = {'tei': 'http://www.tei-c.org/ns/1.0'}\n",
        "    speeches_dict = {}\n",
        "    acts = root.findall('.//tei:div[@type=\"act\"]', namespaces)\n",
        "    if not acts:\n",
        "        acts = [root.find('.//tei:body', namespaces)]\n",
        "    for act_index, act in enumerate(acts, start=1):\n",
        "        act_dict = {}\n",
        "        for sp in act.findall('.//tei:sp', namespaces):\n",
        "            speaker = sp.find('tei:speaker', namespaces)\n",
        "            if speaker is not None:\n",
        "                speaker_name = speaker.text.strip()\n",
        "                lines = []\n",
        "                for p in sp.findall('tei:p', namespaces):\n",
        "                    line = ''.join(p.itertext()).strip()\n",
        "                    lines.append(line)\n",
        "                l_texts = []\n",
        "                for l in sp.findall('tei:l', namespaces):\n",
        "                    l_text = ''.join(l.itertext()).strip()\n",
        "                    l_texts.append(l_text)\n",
        "                if l_texts:\n",
        "                    lines.append(' '.join(l_texts))\n",
        "                act_dict.setdefault(speaker_name, []).extend(lines)\n",
        "        speeches_dict[act_index] = act_dict\n",
        "    return speeches_dict"
      ]
    },
    {
      "cell_type": "markdown",
      "source": [
        "### Для этих 7 пьес"
      ],
      "metadata": {
        "id": "WqWcW2l8sizB"
      }
    },
    {
      "cell_type": "code",
      "execution_count": null,
      "metadata": {
        "id": "507K1b0-iCao"
      },
      "outputs": [],
      "source": [
        "def extract_speeches_from_xml(file_path):\n",
        "    tree = ET.parse(file_path)\n",
        "    root = tree.getroot()\n",
        "    namespaces = {'tei': 'http://www.tei-c.org/ns/1.0'}\n",
        "    speeches_dict = {}\n",
        "    acts = root.findall('.//tei:div[@type=\"act\"]', namespaces)\n",
        "    if not acts:\n",
        "        acts = [root.find('.//tei:body', namespaces)]\n",
        "    for act_index, act in enumerate(acts, start=1):\n",
        "        act_dict = {}\n",
        "        for sp in act.findall('.//tei:sp', namespaces):\n",
        "            speaker = sp.find('tei:speaker', namespaces)\n",
        "            if speaker is not None:\n",
        "                speaker_name = speaker.text.strip()\n",
        "                p_texts = []\n",
        "                for p in sp.findall('.//tei:p', namespaces):\n",
        "                    line = ''.join(p.itertext()).strip()\n",
        "                    p_texts.append(line)\n",
        "                lg_texts = []\n",
        "                for lg in sp.findall('.//tei:lg', namespaces):\n",
        "                    l_texts = []\n",
        "                    for l in lg.findall('tei:l', namespaces):\n",
        "                        l_text = ''.join(l.itertext()).strip()\n",
        "                        l_texts.append(l_text)\n",
        "                    if l_texts:\n",
        "                        lg_texts.append(' '.join(l_texts))\n",
        "                act_dict.setdefault(speaker_name, []).extend(p_texts + lg_texts)\n",
        "        speeches_dict[act_index] = act_dict\n",
        "    return speeches_dict"
      ]
    },
    {
      "cell_type": "markdown",
      "source": [
        "## Объединяем"
      ],
      "metadata": {
        "id": "P0ZBwJ6Rsm6Z"
      }
    },
    {
      "cell_type": "code",
      "execution_count": null,
      "metadata": {
        "id": "bHjdTVCkhVi5"
      },
      "outputs": [],
      "source": [
        "corpus_dir = 'corpus'\n",
        "\n",
        "speech_data = []\n",
        "\n",
        "for _, row in rusdr_meta.iterrows():\n",
        "    file_name = row['name']\n",
        "    file_path = os.path.join(corpus_dir, file_name)\n",
        "    speeches_dict = extract_speeches_from_xml(file_path + \".xml\")\n",
        "    speech_row = {\n",
        "        'title': row['title'],\n",
        "        'author': row['firstAuthor'],\n",
        "        'year': row['yearNormalized'],\n",
        "        'genre': row['normalizedGenre']\n",
        "    }\n",
        "    for act_number, act_dict in speeches_dict.items():\n",
        "        speech_row[str(act_number)] = act_dict\n",
        "    speech_data.append(speech_row)\n",
        "speech_df = pd.DataFrame(speech_data)"
      ]
    }
  ],
  "metadata": {
    "colab": {
      "provenance": []
    },
    "kernelspec": {
      "display_name": "Python 3",
      "name": "python3"
    },
    "language_info": {
      "name": "python"
    }
  },
  "nbformat": 4,
  "nbformat_minor": 0
}